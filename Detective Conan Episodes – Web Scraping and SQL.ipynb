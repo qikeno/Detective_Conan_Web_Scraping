{
 "cells": [
  {
   "cell_type": "markdown",
   "metadata": {},
   "source": [
    "<a id='top'></a>\n",
    "\n",
    "# Detective Conan Episodes – Web Scraping and SQL\n",
    "---"
   ]
  },
  {
   "cell_type": "markdown",
   "metadata": {},
   "source": [
    "### Table of Contents\n",
    "\n",
    "1.  [Introduction](#intro)\n",
    "2.  [Web Scraping](#scrape)\n",
    "3.  [Analysis Using SQLite](#sqlite)\n",
    "4.  [Conclusion](#end)"
   ]
  },
  {
   "cell_type": "markdown",
   "metadata": {},
   "source": [
    "<a id='intro'></a>\n",
    "\n",
    "## Introduction\n",
    "\n",
    "[Back to Top](#top)"
   ]
  },
  {
   "cell_type": "markdown",
   "metadata": {},
   "source": [
    "![conan_header](images/conan_header.png)"
   ]
  },
  {
   "cell_type": "markdown",
   "metadata": {},
   "source": [
    "*Detective Conan* (also known as *Case Closed* in America) is a Japanese detective anime series.  It's a show introduced to me by my girlfriend, who used to watch it on Cartoon Network's Adult Swim block when she was a kid.  If you aren't familiar with this series, one thing to know is that it's been running non-stop since 1996–this show is almost as old as me!  This also means it has a substantial amount of data we can analyze.  The [Detective Conan World Wiki] (DCW Wiki) contains a list of every single episode, along with data such as when the episode aired and what kind of plot points were contained in the episode.  My goal for this will be to scrape the data from the wiki, and do some analysis using SQL.\n",
    "\n",
    "[Detective Conan World Wiki]:  http://www.detectiveconanworld.com/wiki/Anime"
   ]
  },
  {
   "cell_type": "markdown",
   "metadata": {},
   "source": [
    "<a id='scrape'></a>\n",
    "\n",
    "## Web Scraping\n",
    "\n",
    "[Back to Top](#top)"
   ]
  },
  {
   "cell_type": "markdown",
   "metadata": {},
   "source": [
    "The first thing I had to do was to scrape the episode data from the webpage, starting from episode one to the most recent episode as of today (January 23, 2018).  I used the Beautiful Soup package to extract the data.  I've only ever done web scraping once or twice before, so I was a little nervous that I couldn't do it.  But at the end, seeing the dataset I scraped and knowing that I got all the data I wanted was definitely a confidence booster.  That said, if there was a way that I could have made this easier or more efficient please let me know."
   ]
  },
  {
   "cell_type": "code",
   "execution_count": 3,
   "metadata": {
    "collapsed": true
   },
   "outputs": [],
   "source": [
    "from urllib import urlopen as ureq\n",
    "from bs4 import BeautifulSoup\n",
    "\n",
    "my_url = 'http://www.detectiveconanworld.com/wiki/Anime'\n",
    "\n",
    "#openning connection grabbing page\n",
    "uclient = ureq(my_url)\n",
    "html_page = uclient.read()\n",
    "uclient.close()\n",
    "\n",
    "#html parsing\n",
    "soup = BeautifulSoup(html_page, 'html.parser')"
   ]
  },
  {
   "cell_type": "code",
   "execution_count": 4,
   "metadata": {
    "collapsed": true
   },
   "outputs": [],
   "source": [
    "import csv\n",
    "from pprint import pprint\n",
    "\n",
    "#grabs each season table\n",
    "season_table = soup.find_all('table', {'class':'wikitable seasontable headerlink'})\n",
    "\n",
    "data = []\n",
    "\n",
    "#scrape data\n",
    "for episode in season_table:\n",
    "    trs = episode.find_all('tr')\n",
    "    for tr in trs:\n",
    "        ep_dict = {}\n",
    "        tds = tr.find_all('td')\n",
    "        for td in tds[0:1]:\n",
    "            ep_dict['japanese_episode_number'] = td.text.strip().encode('ascii','ignore')\n",
    "        for td in tds[1:2]:\n",
    "            ep_dict['english_episode_number'] = td.text.strip().encode('ascii','ignore')\n",
    "        for td in tds[2:3]:\n",
    "            ep_dict['episode_title'] = td.a.text.strip().encode('ascii','ignore')\n",
    "        for td in tds[3:4]:\n",
    "            ep_dict['original_airdate'] = td.text.strip().encode('ascii','ignore')\n",
    "        for td in tds[4:5]:\n",
    "            ep_dict['english_airdate'] = td.text.strip().encode('ascii','ignore')\n",
    "        for td in tds[5:6]:\n",
    "            plot_list = []\n",
    "            all_story_types = ['New character', 'Character development', 'Magic Kaito', 'Romance', 'Characters pasts',\\\n",
    "                                   'Black Organization', 'FBI']\n",
    "            plot_points = td.find_all('a', {'href':'/wiki/Detective_Conan_Wiki:Plot_Legend'})\n",
    "            for point in plot_points:\n",
    "                story = point['title'].strip().encode('ascii','ignore')\n",
    "                plot_list.append(story)\n",
    "            for story_type in all_story_types:\n",
    "                if story_type in plot_list:\n",
    "                    ep_dict[story_type] = 'yes'\n",
    "                else:\n",
    "                    ep_dict[story_type] = 'no'\n",
    "        for td in tds[6:7]:\n",
    "            try:\n",
    "                manga_source = td.a.text\n",
    "            except AttributeError:\n",
    "                manga_source = td.b.text\n",
    "            ep_dict['manga_source'] = manga_source.strip().encode('ascii','ignore')\n",
    "        for td in tds[7:8]:\n",
    "            ep_dict['next_conans_hint'] = td.text.strip().encode('ascii','ignore')\n",
    "        data.append(ep_dict)\n",
    "\n",
    "#Find indexes of empty dictionaries in list\n",
    "empty = [i for i,x in enumerate(data) if x == {}]\n",
    "counter = 0\n",
    "\n",
    "#delete the empty dictionaries using the indexes\n",
    "for i in empty:\n",
    "    del data[i - counter]\n",
    "    counter += 1\n",
    "    \n",
    "#pprint(data)"
   ]
  },
  {
   "cell_type": "markdown",
   "metadata": {},
   "source": [
    "After getting the data, the next thing I did was to put the data into a list of dictionaries, with each dictionary in the list containing data for each individual episode.  I then exported the list to a csv file so I could use it to make a database."
   ]
  },
  {
   "cell_type": "code",
   "execution_count": 5,
   "metadata": {
    "collapsed": true
   },
   "outputs": [],
   "source": [
    "#write scraped data to a csv file\n",
    "keys = data[0].keys()\n",
    "\n",
    "with open('conan_tv.csv', 'wb') as output_file:\n",
    "    output_file.write('romance,new_character,character_development,magic_kaito,english_airdate,next_conans_hint,original_airdate,episode_title,japanese_episode_number,characters_pasts,black_organization,manga_source,fbi,english_episode_number\\n')\n",
    "    dict_writer = csv.DictWriter(output_file, keys)\n",
    "    dict_writer.writerows(data)\n",
    "\n",
    "output_file.close()\n",
    "\n",
    "#print 'All Done!'"
   ]
  },
  {
   "cell_type": "markdown",
   "metadata": {},
   "source": [
    "<a id='sqlite'></a>\n",
    "\n",
    "## Analysis Using SQLite\n",
    "\n",
    "[Back to Top](#top)"
   ]
  },
  {
   "cell_type": "markdown",
   "metadata": {},
   "source": [
    "Now that I had the csv, just to make things easier on myself and save time, I used DB Browser for SQLite to create the database and table for the data; I decided to call the table **tv**."
   ]
  },
  {
   "cell_type": "markdown",
   "metadata": {},
   "source": [
    "![table](images/table.PNG)"
   ]
  },
  {
   "cell_type": "markdown",
   "metadata": {},
   "source": [
    "An issue I ran into when creating the table was that I was orignally going to put episode numbers as INTEGER types.  However, the TV specials in the data don't have numbers for their episode; for instance the *Magic Kaito* specials have \"MKS#\" listed for their episode numbers.  Thus, I had to keep the episode numbers as text.\n",
    "\n",
    "After I was done creating the database, I decided that I wanted to perform all of my queries within this notebook.  To that end, I chose to use the sqlite3 package to be able to use SQL in Python."
   ]
  },
  {
   "cell_type": "markdown",
   "metadata": {},
   "source": [
    "### Total Episodes in Database\n",
    "\n",
    "<a id='total_eps'></a>"
   ]
  },
  {
   "cell_type": "code",
   "execution_count": 9,
   "metadata": {},
   "outputs": [
    {
     "name": "stdout",
     "output_type": "stream",
     "text": [
      "total episodes in database: 993\n",
      "23832\n",
      "397.2\n",
      "16.5416666667\n"
     ]
    }
   ],
   "source": [
    "import sqlite3\n",
    "\n",
    "#connect to the database\n",
    "conn = sqlite3.connect('conan.db')\n",
    "c = conn.cursor()\n",
    "\n",
    "#write an sql query\n",
    "QUERY = 'SELECT COUNT(id) \\\n",
    "         FROM tv;'\n",
    "\n",
    "def sql_query(query, message):\n",
    "    '''Takes a sql query and a message and displays the message along side the result of the query.'''\n",
    "    info = c.execute(query).fetchall()\n",
    "    return message.format(info[0][0])\n",
    "\n",
    "print sql_query(QUERY, 'total episodes in database: {}')\n",
    "print 993 * 24\n",
    "print 993 * 24 / 60.\n",
    "print 993 * 24 / 60 / 24."
   ]
  },
  {
   "cell_type": "markdown",
   "metadata": {},
   "source": [
    "There a total of 993 episodes in this database; that includes all of the regular episodes, TV specials, reruns, and remastered episodes.  If we assume each episode has a runtime of 24 minutes, excluding commercials, 993 episodes is equivalent to:\n",
    "\n",
    "- 23832 minutes,\n",
    "- roughly 397 hours, or\n",
    "- about 16.5 days.\n",
    "\n",
    "That said, *Detective Conan* sometimes has specials that are an hour to two and a half hours long, so the actual runtime of all 993 episodes should be slightly higher.  Regardless, the point is:  this is not a series to binge watch in one sitting."
   ]
  },
  {
   "cell_type": "markdown",
   "metadata": {},
   "source": [
    "### Number of Regular Episodes"
   ]
  },
  {
   "cell_type": "code",
   "execution_count": 10,
   "metadata": {},
   "outputs": [
    {
     "name": "stdout",
     "output_type": "stream",
     "text": [
      "total number of regular episodes: 890\n",
      "103\n"
     ]
    }
   ],
   "source": [
    "QUERY = 'SELECT japanese_episode_number \\\n",
    "         FROM tv \\\n",
    "         WHERE id = 993'\n",
    "\n",
    "print sql_query(QUERY, 'total number of regular episodes: {}')\n",
    "print 993 - 890"
   ]
  },
  {
   "cell_type": "markdown",
   "metadata": {},
   "source": [
    "There are 890 of what I am going to call regular episodes, or all the episodes that are not reruns, remasters, or TV specials.  If we subtract the total number of regular episodes from the amount of episodes total, we get 103, which is the number of episodes that are TV specials, reruns, and remasters."
   ]
  },
  {
   "cell_type": "markdown",
   "metadata": {
    "collapsed": true
   },
   "source": [
    "### Plot Elements"
   ]
  },
  {
   "cell_type": "markdown",
   "metadata": {},
   "source": [
    "The DCW Wiki anime chart contains a collumn called \"Plot\" which indicates whether anything significant happened during an episode that is relevant to the overall plot of the series.  The \"Plot\" collumn utilizes different symbols to specify what sort of plot development occured.  Below is the wiki's description of what each symbol means:"
   ]
  },
  {
   "cell_type": "markdown",
   "metadata": {},
   "source": [
    "![legend](images/plot_legend.PNG)"
   ]
  },
  {
   "cell_type": "markdown",
   "metadata": {},
   "source": [
    "Using this plot data, I wanted to see how many episodes contained any sort of plot development; i.e. episodes containing at least one of the above symbols."
   ]
  },
  {
   "cell_type": "code",
   "execution_count": 12,
   "metadata": {},
   "outputs": [
    {
     "name": "stdout",
     "output_type": "stream",
     "text": [
      "episodes with plot: 443\n",
      "0.44612286002\n"
     ]
    }
   ],
   "source": [
    "QUERY = \"SELECT COUNT(id) \\\n",
    "         FROM tv \\\n",
    "         WHERE (romance == 'yes' OR \\\n",
    "         new_character == 'yes' OR \\\n",
    "         character_development == 'yes' OR \\\n",
    "         characters_pasts == 'yes' OR \\\n",
    "         black_organization == 'yes' OR \\\n",
    "         magic_kaito == 'yes' OR fbi == 'yes');\"\n",
    "\n",
    "print sql_query(QUERY, 'episodes with plot: {}')\n",
    "print 443 / 993."
   ]
  },
  {
   "cell_type": "markdown",
   "metadata": {},
   "source": [
    "443 episodes or about 45% of all episodes contain some sort of plot element.  In regards to this, *Detective Conan* is less of a plot-driven show and more of a \"case of the week\" show, with emphasis placed on presenting a new and intriguing mystery and seeing how Conan can use his skills in deduction to solve it.  Thus, plot developments in *Detective Conan* are typically very small and the story moves at the pace of a sloth in the body of a snail.  But I assume this is a nonissue for most fans who just enjoy being along for the ride."
   ]
  },
  {
   "cell_type": "code",
   "execution_count": 138,
   "metadata": {},
   "outputs": [
    {
     "data": {
      "image/png": "[encoded data removed]",
      "text/plain": [
       "<matplotlib.figure.Figure at 0x12f10fd0>"
      ]
     },
     "metadata": {},
     "output_type": "display_data"
    }
   ],
   "source": [
    "import numpy as np\n",
    "import pandas as pd\n",
    "import matplotlib.pyplot as plt\n",
    "import seaborn as sns\n",
    "\n",
    "#put the csv data into a pandas df\n",
    "conan = pd.read_csv('conan_tv.csv')\n",
    "#for each story type put the number of yes into a list \"y\" to use to make the bar chart\n",
    "story_types = ['new_character', 'character_development', 'magic_kaito', 'romance', 'characters_pasts',\\\n",
    "                                   'black_organization', 'fbi']\n",
    "y = []\n",
    "for story_type in story_types:\n",
    "    y.append(conan.groupby([story_type]).size()[1])\n",
    "y.sort(reverse=True)\n",
    "\n",
    "#plot the number of plot elements\n",
    "sns.set_context('paper', font_scale=1.35)\n",
    "x = np.arange(len(story_types))\n",
    "bar_width = 0.75\n",
    "plt.figure(figsize=(12,8))\n",
    "plt.bar(x, y, bar_width, color = 'cornflowerblue')\n",
    "plt.xlabel('Plot Elements', fontsize=18)\n",
    "plt.ylabel('Number of Episodes', fontsize=18)\n",
    "plt.xticks(np.arange(len(story_types)), ['Character Development', 'Romance', 'New Character', 'Black Organization', \\\n",
    "                                         'Characters Pasts', 'Magic Kaito', 'FBI'])\n",
    "plt.show()\n"
   ]
  },
  {
   "cell_type": "markdown",
   "metadata": {},
   "source": [
    "I wanted to compare the amount of each plot elements throughout the series, so to make the comparision easier I created a bar chart instead of doing normal SQL queries.  Character development has the most amount of episodes, followed by romance.  I was a little surprised that the FBI are featured in about the same amount of episodes as Kaitou Kid considering, that the FBI were introduced into the series way later than Kaito Kid."
   ]
  },
  {
   "cell_type": "markdown",
   "metadata": {},
   "source": [
    "### Source Material"
   ]
  },
  {
   "cell_type": "code",
   "execution_count": 29,
   "metadata": {},
   "outputs": [
    {
     "name": "stdout",
     "output_type": "stream",
     "text": [
      "tv originals: 368\n",
      "625\n"
     ]
    }
   ],
   "source": [
    "QUERY = \"SELECT COUNT(id) \\\n",
    "         FROM tv \\\n",
    "         WHERE manga_source == 'TV Original';\"\n",
    "\n",
    "print sql_query(QUERY, 'tv originals: {}')\n",
    "print 993 - 368"
   ]
  },
  {
   "cell_type": "markdown",
   "metadata": {},
   "source": [
    "625 of all the episodes are based on the *Detective Conan* or *Magic Kaito* mangas, while 368 are not based on any source material."
   ]
  },
  {
   "cell_type": "markdown",
   "metadata": {},
   "source": [
    "### Next Conan's Hint"
   ]
  },
  {
   "cell_type": "code",
   "execution_count": 36,
   "metadata": {
    "scrolled": true
   },
   "outputs": [
    {
     "name": "stdout",
     "output_type": "stream",
     "text": [
      "\n",
      "Top 10 \"Next Conan's Hint\"\n",
      "             Hint  Frequency\n",
      "1           Clock          5\n",
      "2             Ice          5\n",
      "3   Cassette tape          4\n",
      "4             Cat          4\n",
      "5      Cell phone          4\n",
      "6          Mirror          4\n",
      "7       Nameplate          4\n",
      "8           Paint          4\n",
      "9        Umbrella          4\n",
      "10           Wind          4\n"
     ]
    }
   ],
   "source": [
    "QUERY = \"SELECT next_conans_hint, COUNT(next_conans_hint) AS number \\\n",
    "         FROM tv \\\n",
    "         WHERE NOT next_conans_hint == 'N/A' \\\n",
    "         GROUP BY next_conans_hint \\\n",
    "         ORDER BY number desc \\\n",
    "         LIMIT 10;\" \n",
    "\n",
    "#put sql query into a pandas df\n",
    "top_hints = pd.read_sql_query(QUERY, conn)\n",
    "#name the collumns\n",
    "top_hints.columns = ['Hint', 'Frequency']\n",
    "#create the index for the df\n",
    "top_hints.index = np.arange(1, len(top_hints) + 1)\n",
    "\n",
    "#close connection\n",
    "c.close()\n",
    "conn.close()\n",
    "\n",
    "print ''\n",
    "print 'Top 10 \"Next Conan\\'s Hint\"'\n",
    "print top_hints"
   ]
  },
  {
   "cell_type": "markdown",
   "metadata": {},
   "source": [
    "The \"Next Conan's Hint\" is a hint given at the end of every episode; it gives viewers a heads-up about something they should look out for in the next episode that will be important for Conan's deduction.  Given the length of the series, I was certain that some of the hints had to have been repeated at least a few times.  I was interested to see that cat, was the only living thing appearing in this list and was featured four times.  I also thought that cassette tape and cell phone being featured the same amount of times is an indicator of the show's age."
   ]
  },
  {
   "cell_type": "markdown",
   "metadata": {
    "collapsed": true
   },
   "source": [
    "<a id=end></a>\n",
    "\n",
    "## Conclusion\n",
    "\n",
    "[Back to Top](#top)"
   ]
  },
  {
   "cell_type": "markdown",
   "metadata": {},
   "source": [
    "Here is where I'll conclude the analysis.  One idea I came up with when doing this project was to somehow use machine learning to try and predict the culprit in an episode of *Detective Conan*.  I'll have to work out the details and see if it is even possible to do such a thing, so I'll save that project for another day."
   ]
  },
  {
   "cell_type": "markdown",
   "metadata": {
    "collapsed": true
   },
   "source": [
    "## References"
   ]
  },
  {
   "cell_type": "markdown",
   "metadata": {},
   "source": [
    "http://www.detectiveconanworld.com/wiki/Anime\n",
    "\n",
    "https://res.cloudinary.com/sfp/image/upload/c_fill,q_60/oth/FunimationStoreFront/1353682/English/1353682_English_ShowDetailHeaderDesktop_463281e7-5250-e711-8175-020165574d09.jpg"
   ]
  }
 ],
 "metadata": {
  "kernelspec": {
   "display_name": "Python [conda root]",
   "language": "python",
   "name": "conda-root-py"
  },
  "language_info": {
   "codemirror_mode": {
    "name": "ipython",
    "version": 2
   },
   "file_extension": ".py",
   "mimetype": "text/x-python",
   "name": "python",
   "nbconvert_exporter": "python",
   "pygments_lexer": "ipython2",
   "version": "2.7.13"
  }
 },
 "nbformat": 4,
 "nbformat_minor": 2
}
